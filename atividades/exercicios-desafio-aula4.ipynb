{
 "cells": [
  {
   "cell_type": "markdown",
   "metadata": {},
   "source": [
    "# Exercicios desafio aula 4"
   ]
  },
  {
   "cell_type": "markdown",
   "metadata": {},
   "source": [
    "1. "
   ]
  },
  {
   "cell_type": "code",
   "execution_count": 3,
   "metadata": {},
   "outputs": [
    {
     "name": "stdout",
     "output_type": "stream",
     "text": [
      "Suspeito grau 3: Principal suspeito\n"
     ]
    }
   ],
   "source": [
    "perguntas = [\"Telefonou para a vítima?\", \"Esteve no local do crime?\", \"Mora perto da vítima?\", \"Devia para a vítima?\", \"Já trabalhou com a vítima?\"]\n",
    "\n",
    "suspeito = ''\n",
    "score_suspeito = 0\n",
    "for pergunta in perguntas:\n",
    "    resposta = input(pergunta)\n",
    "    if resposta == 'sim':\n",
    "        score_suspeito += 1\n",
    "\n",
    "else:\n",
    "    if score_suspeito == 2:\n",
    "        suspeito = 'Suspeito grau 1'\n",
    "    \n",
    "    elif 3 < score_suspeito < 4:\n",
    "        suspeito = 'Suspeito grau 2'\n",
    "    \n",
    "    elif score_suspeito == 5:\n",
    "        suspeito = 'Suspeito grau 3: Principal suspeito'\n",
    "    \n",
    "    else:\n",
    "        suspeito = 'Inocente'\n",
    "    \n",
    "    print(suspeito)\n",
    "\n"
   ]
  },
  {
   "cell_type": "markdown",
   "metadata": {},
   "source": [
    "2."
   ]
  },
  {
   "cell_type": "code",
   "execution_count": 14,
   "metadata": {},
   "outputs": [
    {
     "name": "stdout",
     "output_type": "stream",
     "text": [
      "Faixa[200 - 299] - Quantidade: 0\n",
      "Faixa[300 - 399] - Quantidade: 0\n",
      "Faixa[400 - 499] - Quantidade: 0\n",
      "Faixa[500 - 599] - Quantidade: 0\n",
      "Faixa[600 - 699] - Quantidade: 0\n",
      "Faixa[700 - 799] - Quantidade: 0\n",
      "Faixa[800 - 899] - Quantidade: 0\n",
      "Faixa[900 - 999] - Quantidade: 0\n",
      "Faixa[1000 - 1000+] - Quantidade: 1\n"
     ]
    }
   ],
   "source": [
    "vendedores = {'200 - 299': 0, '300 - 399': 0, '400 - 499': 0, '500 - 599': 0, '600 - 699': 0, '700 - 799': 0, '800 - 899': 0, '900 - 999': 0,\n",
    "              '1000 - 1000+': 0}\n",
    "\n",
    "\n",
    "finished = False\n",
    "while not finished:\n",
    "    venda_bruta = float(input())\n",
    "    salario = venda_bruta * 0.09 + 200\n",
    "\n",
    "    if 200 <= salario <= 299:\n",
    "        vendedores['200 - 299'] += 1\n",
    "    \n",
    "    elif 300 <= salario <= 399:\n",
    "        vendedores['300 - 399'] += 1\n",
    "\n",
    "    elif 400 <= salario <= 499:\n",
    "        vendedores['400 - 499'] += 1\n",
    "\n",
    "    elif 500 <= salario <= 599:\n",
    "        vendedores['500 - 599'] += 1\n",
    "\n",
    "    elif 600 <= salario <= 699:\n",
    "        vendedores['600 - 699'] += 1\n",
    "\n",
    "    elif 700 <= salario <= 799:\n",
    "        vendedores['700 - 799'] += 1\n",
    "\n",
    "    elif 800 <= salario <= 899:\n",
    "        vendedores['800 - 899'] += 1\n",
    "\n",
    "    elif 900 <= salario <= 999:\n",
    "        vendedores['900 - 999'] += 1\n",
    "\n",
    "    elif salario >= 1000:\n",
    "        vendedores['1000 - 1000+'] += 1\n",
    "    \n",
    "    parar = input('1 - parar')\n",
    "\n",
    "    if parar == '1':\n",
    "        finished = True\n",
    "\n",
    "else:\n",
    "    for faixa, quantidade in vendedores.items():\n",
    "        print(f'Faixa[{faixa}] - Quantidade: {quantidade}')"
   ]
  },
  {
   "cell_type": "markdown",
   "metadata": {},
   "source": [
    "3."
   ]
  },
  {
   "cell_type": "code",
   "execution_count": 5,
   "metadata": {},
   "outputs": [
    {
     "name": "stdout",
     "output_type": "stream",
     "text": [
      "[0.0, 9.0, 8.0, 7.0, 6.0, 5.0, 4.0, 3.0, 2.0, 1.0]\n"
     ]
    }
   ],
   "source": [
    "nums = list()\n",
    "for i in range(10):\n",
    "    nums.append(float(input()))\n",
    "\n",
    "else:\n",
    "    print(nums[-1::-1])"
   ]
  },
  {
   "cell_type": "markdown",
   "metadata": {},
   "source": [
    "4."
   ]
  },
  {
   "cell_type": "code",
   "execution_count": 13,
   "metadata": {},
   "outputs": [
    {
     "name": "stdout",
     "output_type": "stream",
     "text": [
      "1 ficaram acima da média.\n"
     ]
    }
   ],
   "source": [
    "alunos = dict()\n",
    "\n",
    "finished = False\n",
    "while not finished:\n",
    "    aluno = input()\n",
    "    notas = list()\n",
    "    for i in range(4):\n",
    "        notas.append(float(input()))\n",
    "    \n",
    "    media = sum(notas) / 4\n",
    "    alunos.update({aluno: media})\n",
    "\n",
    "    finalizar = input('[1] Sair\\n[2] Continuar')\n",
    "\n",
    "    if finalizar == '1':\n",
    "        finished = True\n",
    "\n",
    "contador_alunos = 0\n",
    "for media in alunos.values():\n",
    "    if media >= 7:\n",
    "        contador_alunos += 1\n",
    "\n",
    "else:\n",
    "    print(f'{contador_alunos} ficaram acima da média.')\n"
   ]
  }
 ],
 "metadata": {
  "kernelspec": {
   "display_name": "Python 3.10.8 64-bit",
   "language": "python",
   "name": "python3"
  },
  "language_info": {
   "codemirror_mode": {
    "name": "ipython",
    "version": 3
   },
   "file_extension": ".py",
   "mimetype": "text/x-python",
   "name": "python",
   "nbconvert_exporter": "python",
   "pygments_lexer": "ipython3",
   "version": "3.10.8"
  },
  "orig_nbformat": 4,
  "vscode": {
   "interpreter": {
    "hash": "e7370f93d1d0cde622a1f8e1c04877d8463912d04d973331ad4851f04de6915a"
   }
  }
 },
 "nbformat": 4,
 "nbformat_minor": 2
}
