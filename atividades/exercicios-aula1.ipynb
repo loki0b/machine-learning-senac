{
 "cells": [
  {
   "cell_type": "markdown",
   "metadata": {},
   "source": [
    "# Exercicios aula 1"
   ]
  },
  {
   "cell_type": "markdown",
   "metadata": {},
   "source": [
    "## Python básico"
   ]
  },
  {
   "cell_type": "markdown",
   "metadata": {},
   "source": [
    "#### 1)"
   ]
  },
  {
   "cell_type": "code",
   "execution_count": 4,
   "metadata": {},
   "outputs": [
    {
     "name": "stdout",
     "output_type": "stream",
     "text": [
      "A Soma de a + b é: soma\n"
     ]
    }
   ],
   "source": [
    "a = 3\n",
    "b = 4\n",
    "soma = a + b\n",
    "\n",
    "print('A Soma de a + b é: soma')\n",
    "\n",
    "# Resposta: como todo conteudo está dentro de aspas a função print está considerando toda como texto, logo\n",
    "# será printado apenas como string sem fazer uso da variavel soma.\n"
   ]
  },
  {
   "cell_type": "markdown",
   "metadata": {},
   "source": [
    "#### 2)"
   ]
  },
  {
   "cell_type": "code",
   "execution_count": 6,
   "metadata": {},
   "outputs": [
    {
     "name": "stdout",
     "output_type": "stream",
     "text": [
      "A soma de a + b é: 7\n"
     ]
    }
   ],
   "source": [
    "a = 3\n",
    "b = 4\n",
    "soma = a + b\n",
    "print('A soma de a + b é:', soma)\n",
    "\n",
    "# Resposta: a função print() printa o conteúdo dentro da string ('A soma de a + b é:') e concatena a variavel \n",
    "# soma (int 7) convertendo-a em string (apenas na função)."
   ]
  },
  {
   "cell_type": "markdown",
   "metadata": {},
   "source": [
    "#### 3)"
   ]
  },
  {
   "cell_type": "code",
   "execution_count": 10,
   "metadata": {},
   "outputs": [
    {
     "name": "stdout",
     "output_type": "stream",
     "text": [
      "A soma de 3 + 4 é: 7\n"
     ]
    }
   ],
   "source": [
    "a = 3\n",
    "b = 4\n",
    "\n",
    "soma = a + b\n",
    "\n",
    "print('A soma de', a, '+', b, 'é:', soma)\n",
    "\n",
    "# Resposta: a função está printando a string e concatenando com os valores dentro das váriaveis a, b e soma."
   ]
  },
  {
   "cell_type": "markdown",
   "metadata": {},
   "source": [
    "#### 4)"
   ]
  },
  {
   "cell_type": "code",
   "execution_count": 12,
   "metadata": {},
   "outputs": [
    {
     "name": "stdout",
     "output_type": "stream",
     "text": [
      "A soma de 1 + 2 é: 12\n"
     ]
    }
   ],
   "source": [
    "a = input()\n",
    "b = input()\n",
    "\n",
    "soma = a + b\n",
    "\n",
    "print('A soma de', a, '+', b, 'é:', soma)\n",
    "\n",
    "# Resposta: a função input por padrão recebe os dados do usuário como string, como não foram convertidas\n",
    "# para inteiro, os valores são concatenados na linha \"soma = a + b\" se tornando \"12\" e logo apos apenas\n",
    "# são printados os valores em string a, b e soma"
   ]
  },
  {
   "cell_type": "markdown",
   "metadata": {},
   "source": [
    "#### 5)"
   ]
  },
  {
   "cell_type": "code",
   "execution_count": 13,
   "metadata": {},
   "outputs": [
    {
     "name": "stdout",
     "output_type": "stream",
     "text": [
      "A soma de 1 + 2 eh igual a 3\n"
     ]
    }
   ],
   "source": [
    "a_str = input(\"Digite o primeiro numero: \")\n",
    "b_str = input(\"Digite o segundo numero: \")\n",
    "a_int = int(a_str) # converte string/texto para inteiro\n",
    "b_int = int(b_str) # converte string/texto para inteiro\n",
    "soma = a_int + b_int\n",
    "print(\"A soma de\", a_int, \"+\", b_int, \"eh igual a\", soma)\n",
    "\n",
    "# Resposta: os valores são recebidos como string, logo apos são convertidos e somados normalmente da forma correta\n",
    "# no fim, são printados os valores como inteiros."
   ]
  },
  {
   "cell_type": "markdown",
   "metadata": {},
   "source": [
    "#### 6)"
   ]
  },
  {
   "cell_type": "code",
   "execution_count": 14,
   "metadata": {},
   "outputs": [
    {
     "name": "stdout",
     "output_type": "stream",
     "text": [
      "A soma de 1 + 2 eh igual a 3\n"
     ]
    }
   ],
   "source": [
    "a = int(input(\"Digite o primeiro numero: \"))\n",
    "b = int(input(\"Digite o segundo numero: \"))\n",
    "soma = a + b\n",
    "print(\"A soma de\", a, \"+\", b, \"eh igual a\", soma)\n",
    "\n",
    "# Resposta: os valores são recebidos e convertidos para o tipo inteiro, logo apos são somados e guardados\n",
    "# na váriavel soma, e no fim concatenados e printados os valores corretos que se esperam."
   ]
  }
 ],
 "metadata": {
  "kernelspec": {
   "display_name": "Python 3.10.8 64-bit",
   "language": "python",
   "name": "python3"
  },
  "language_info": {
   "codemirror_mode": {
    "name": "ipython",
    "version": 3
   },
   "file_extension": ".py",
   "mimetype": "text/x-python",
   "name": "python",
   "nbconvert_exporter": "python",
   "pygments_lexer": "ipython3",
   "version": "3.10.8"
  },
  "orig_nbformat": 4,
  "vscode": {
   "interpreter": {
    "hash": "e7370f93d1d0cde622a1f8e1c04877d8463912d04d973331ad4851f04de6915a"
   }
  }
 },
 "nbformat": 4,
 "nbformat_minor": 2
}
