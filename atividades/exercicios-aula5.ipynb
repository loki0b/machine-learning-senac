{
 "cells": [
  {
   "cell_type": "markdown",
   "metadata": {},
   "source": [
    "# Lista de exercicíos aula 5"
   ]
  },
  {
   "cell_type": "code",
   "execution_count": 39,
   "metadata": {},
   "outputs": [],
   "source": [
    "from datetime import date\n",
    "\n",
    "class Pessoa:\n",
    "    def __init__(self, nome, idade):\n",
    "        self.nome = nome\n",
    "        self.idade = idade\n",
    "    \n",
    "    def ano_nascimento(self):\n",
    "        year =  date.today().year\n",
    "        \n",
    "        print(year - self.idade) \n"
   ]
  },
  {
   "cell_type": "code",
   "execution_count": 40,
   "metadata": {},
   "outputs": [
    {
     "name": "stdout",
     "output_type": "stream",
     "text": [
      "2001\n"
     ]
    }
   ],
   "source": [
    "pessoa = Pessoa('Loki', 21)\n",
    "pessoa.ano_nascimento()"
   ]
  },
  {
   "cell_type": "code",
   "execution_count": 41,
   "metadata": {},
   "outputs": [
    {
     "name": "stdout",
     "output_type": "stream",
     "text": [
      "Nome: Loki - Idade: 21\n",
      "Nome: Luiza - Idade: 18\n",
      "Nome: Carol - Idade: 18\n",
      "Nome: Franci - Idade: 46\n",
      "Nome: Lili - Idade: 13\n"
     ]
    }
   ],
   "source": [
    "pessoas = list()\n",
    "\n",
    "for i in range(5):\n",
    "    nome = input()\n",
    "    idade = int(input())\n",
    "    pessoas.append(Pessoa(nome, idade))\n",
    "\n",
    "else:\n",
    "    for pessoa in pessoas:\n",
    "        print(f'Nome: {pessoa.nome} - Idade: {pessoa.idade}')\n",
    "    "
   ]
  },
  {
   "cell_type": "code",
   "execution_count": 54,
   "metadata": {},
   "outputs": [],
   "source": [
    "class PessoaFisica:\n",
    "    def __init__(self, nome, idade, cpf):\n",
    "        self.nome = nome\n",
    "        self.idade = idade\n",
    "        self.cpf = cpf\n",
    "    \n",
    "    def apresentacao(self):\n",
    "        print('Seja  bem-vindo ao SENAC')\n",
    "\n",
    "    def imposto(self, salario):\n",
    "        return salario * 0.015\n",
    "\n",
    "class PessoaJuridica:\n",
    "    def __init__(self, nome, idade, cnpj):\n",
    "        self.nome = nome\n",
    "        self.idade = idade\n",
    "        self.cnpj = cnpj\n",
    "    \n",
    "    def apresentacao(self):\n",
    "        print('Seja  bem-vindo ao SENAC')\n",
    "\n",
    "    def imposto_renda(self, salario):\n",
    "        return salario * 0.10"
   ]
  },
  {
   "cell_type": "code",
   "execution_count": 56,
   "metadata": {},
   "outputs": [
    {
     "data": {
      "text/plain": [
       "1.5"
      ]
     },
     "execution_count": 56,
     "metadata": {},
     "output_type": "execute_result"
    }
   ],
   "source": [
    "pessoa2 = PessoaFisica('Loki', 21, 123)\n",
    "ir = pessoa2.imposto(100)\n",
    "ir"
   ]
  }
 ],
 "metadata": {
  "kernelspec": {
   "display_name": "Python 3.10.8 64-bit",
   "language": "python",
   "name": "python3"
  },
  "language_info": {
   "codemirror_mode": {
    "name": "ipython",
    "version": 3
   },
   "file_extension": ".py",
   "mimetype": "text/x-python",
   "name": "python",
   "nbconvert_exporter": "python",
   "pygments_lexer": "ipython3",
   "version": "3.10.8"
  },
  "orig_nbformat": 4,
  "vscode": {
   "interpreter": {
    "hash": "e7370f93d1d0cde622a1f8e1c04877d8463912d04d973331ad4851f04de6915a"
   }
  }
 },
 "nbformat": 4,
 "nbformat_minor": 2
}
