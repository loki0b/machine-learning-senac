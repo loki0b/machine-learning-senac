{
 "cells": [
  {
   "cell_type": "markdown",
   "metadata": {},
   "source": [
    "### Revisão"
   ]
  },
  {
   "cell_type": "code",
   "execution_count": 1,
   "metadata": {},
   "outputs": [
    {
     "name": "stdout",
     "output_type": "stream",
     "text": [
      "Olá, Loki\n",
      "você tem 36 anos\n"
     ]
    }
   ],
   "source": [
    "nome = 'Loki'\n",
    "idade = 21\n",
    "\n",
    "print(f'Olá, {nome}\\nvocê tem {idade + 15} anos')"
   ]
  },
  {
   "cell_type": "code",
   "execution_count": 2,
   "metadata": {},
   "outputs": [],
   "source": [
    "nome = input()\n",
    "idade = int(input())"
   ]
  },
  {
   "cell_type": "markdown",
   "metadata": {},
   "source": [
    "### Condicionais"
   ]
  },
  {
   "cell_type": "code",
   "execution_count": 9,
   "metadata": {},
   "outputs": [
    {
     "name": "stdout",
     "output_type": "stream",
     "text": [
      "False\n",
      "True\n",
      "False\n",
      "True\n",
      "False\n"
     ]
    }
   ],
   "source": [
    "valor1 = input()\n",
    "valor2 = input()\n",
    "\n",
    "print(valor1 == valor2)\n",
    "print(valor1 > valor2)\n",
    "print(valor1 < valor2)\n",
    "print(valor1 >= valor2)\n",
    "print(valor1 <= valor2)"
   ]
  },
  {
   "cell_type": "code",
   "execution_count": 4,
   "metadata": {},
   "outputs": [
    {
     "name": "stdout",
     "output_type": "stream",
     "text": [
      "False\n"
     ]
    }
   ],
   "source": [
    "numero = 10\n",
    "print(numero > 0 and numero < 10)"
   ]
  },
  {
   "cell_type": "code",
   "execution_count": 5,
   "metadata": {},
   "outputs": [
    {
     "name": "stdout",
     "output_type": "stream",
     "text": [
      "True\n"
     ]
    }
   ],
   "source": [
    "numero = 10\n",
    "print(numero > 0 or numero < 10)"
   ]
  },
  {
   "cell_type": "code",
   "execution_count": 6,
   "metadata": {},
   "outputs": [],
   "source": [
    "if ():\n",
    "    print()\n",
    "else:\n",
    "    print()"
   ]
  },
  {
   "cell_type": "markdown",
   "metadata": {},
   "source": [
    "### Desafio 1"
   ]
  },
  {
   "cell_type": "code",
   "execution_count": 8,
   "metadata": {},
   "outputs": [
    {
     "name": "stdout",
     "output_type": "stream",
     "text": [
      "O número 3 é ímpar!\n"
     ]
    }
   ],
   "source": [
    "numero = int(input())\n",
    "\n",
    "if numero % 2 == 0:\n",
    "    print(f'O número {numero} é par!')\n",
    "\n",
    "else:\n",
    "    print(f'O número {numero} é ímpar!')"
   ]
  },
  {
   "cell_type": "markdown",
   "metadata": {},
   "source": [
    "### Desvio condicional"
   ]
  },
  {
   "cell_type": "code",
   "execution_count": 11,
   "metadata": {},
   "outputs": [
    {
     "name": "stdout",
     "output_type": "stream",
     "text": [
      "Cupom inválido\n"
     ]
    }
   ],
   "source": [
    "cupom = input()\n",
    "\n",
    "if cupom == 'aula1' or cupom == 'aula2':\n",
    "    print('Você ganhou 10% de desconto')\n",
    "\n",
    "else:\n",
    "    print('Cupom inválido')"
   ]
  },
  {
   "cell_type": "markdown",
   "metadata": {},
   "source": [
    "### Desafio 2"
   ]
  },
  {
   "cell_type": "code",
   "execution_count": 16,
   "metadata": {},
   "outputs": [
    {
     "name": "stdout",
     "output_type": "stream",
     "text": [
      "15% de desconto\n"
     ]
    }
   ],
   "source": [
    "cupom = input()\n",
    "\n",
    "if cupom == 'aula1' or cupom == 'aula2':\n",
    "    print('15% de desconto')\n",
    "\n",
    "else:\n",
    "    print('5% de desconto')"
   ]
  },
  {
   "cell_type": "markdown",
   "metadata": {},
   "source": [
    "### Condicional composta"
   ]
  },
  {
   "cell_type": "code",
   "execution_count": null,
   "metadata": {},
   "outputs": [],
   "source": [
    "if ():\n",
    "    pass\n",
    "elif ():\n",
    "    pass\n",
    "else:\n",
    "    pass\n",
    "\n"
   ]
  },
  {
   "cell_type": "markdown",
   "metadata": {},
   "source": [
    "### Desafio 3"
   ]
  },
  {
   "cell_type": "code",
   "execution_count": 19,
   "metadata": {},
   "outputs": [
    {
     "name": "stdout",
     "output_type": "stream",
     "text": [
      "5% de desconto\n"
     ]
    }
   ],
   "source": [
    "cupom = input()\n",
    "\n",
    "if cupom == 'aula1':\n",
    "    print('15% de desconto')\n",
    "\n",
    "elif cupom == 'aula2':\n",
    "    print('10% de desconto')\n",
    "\n",
    "else:\n",
    "    print('5% de desconto')"
   ]
  },
  {
   "cell_type": "markdown",
   "metadata": {},
   "source": [
    "### Identação"
   ]
  },
  {
   "cell_type": "code",
   "execution_count": null,
   "metadata": {},
   "outputs": [],
   "source": [
    "if 1 == 1:\n",
    "    print()\n",
    "    \n",
    "    if 1 == 2:\n",
    "        pass\n"
   ]
  },
  {
   "cell_type": "markdown",
   "metadata": {},
   "source": [
    "### Desafio 4"
   ]
  },
  {
   "cell_type": "code",
   "execution_count": 23,
   "metadata": {},
   "outputs": [
    {
     "name": "stdout",
     "output_type": "stream",
     "text": [
      "Praia\n"
     ]
    }
   ],
   "source": [
    "sun = True\n",
    "money = True\n",
    "\n",
    "if sun and money:\n",
    "    print('Praia')\n",
    "\n",
    "else:\n",
    "    print('Netflix')"
   ]
  },
  {
   "cell_type": "code",
   "execution_count": 24,
   "metadata": {},
   "outputs": [
    {
     "data": {
      "text/plain": [
       "True"
      ]
     },
     "execution_count": 24,
     "metadata": {},
     "output_type": "execute_result"
    }
   ],
   "source": [
    "x = 4\n",
    "\n",
    "0 < x < 5"
   ]
  },
  {
   "cell_type": "markdown",
   "metadata": {},
   "source": [
    "### Desafio 5"
   ]
  },
  {
   "cell_type": "code",
   "execution_count": 28,
   "metadata": {},
   "outputs": [
    {
     "name": "stdout",
     "output_type": "stream",
     "text": [
      "Imposto total R$ 1.50\n"
     ]
    }
   ],
   "source": [
    "ano = int(input())\n",
    "preco = float(input())\n",
    "\n",
    "imposto = 0\n",
    "\n",
    "if ano < 1990:\n",
    "    imposto += preco * 0.01\n",
    "\n",
    "else:\n",
    "    imposto += preco * 0.015\n",
    "\n",
    "print(f'Imposto total R$ {imposto:.2f}')"
   ]
  },
  {
   "cell_type": "markdown",
   "metadata": {},
   "source": [
    "### Desafio 6"
   ]
  },
  {
   "cell_type": "code",
   "execution_count": 32,
   "metadata": {},
   "outputs": [
    {
     "name": "stdout",
     "output_type": "stream",
     "text": [
      "Sálario antigo: R$ 100.00\n",
      "Novo sálario R$ 140.00\n",
      "Aumento de R$ 40.0\n"
     ]
    }
   ],
   "source": [
    "cargo = input()\n",
    "salario = float(input())\n",
    "\n",
    "salario_alterado = 0\n",
    "\n",
    "if cargo == '101':\n",
    "    salario_alterado = salario + salario * 0.1\n",
    "\n",
    "elif cargo == '102':\n",
    "    salario_alterado = salario + salario * 0.2\n",
    "\n",
    "elif cargo == '103':\n",
    "    salario_alterado = salario + salario * 0.3\n",
    "\n",
    "else:\n",
    "    salario_alterado = salario + salario * 0.4\n",
    "\n",
    "print(f'Sálario antigo: R$ {salario:.2f}')\n",
    "print(f'Novo sálario R$ {salario_alterado:.2f}')\n",
    "print(f'Aumento de R$ {salario_alterado - salario:.2f}')\n",
    "\n"
   ]
  }
 ],
 "metadata": {
  "kernelspec": {
   "display_name": "Python 3.10.8 64-bit",
   "language": "python",
   "name": "python3"
  },
  "language_info": {
   "codemirror_mode": {
    "name": "ipython",
    "version": 3
   },
   "file_extension": ".py",
   "mimetype": "text/x-python",
   "name": "python",
   "nbconvert_exporter": "python",
   "pygments_lexer": "ipython3",
   "version": "3.10.8"
  },
  "orig_nbformat": 4,
  "vscode": {
   "interpreter": {
    "hash": "e7370f93d1d0cde622a1f8e1c04877d8463912d04d973331ad4851f04de6915a"
   }
  }
 },
 "nbformat": 4,
 "nbformat_minor": 2
}
