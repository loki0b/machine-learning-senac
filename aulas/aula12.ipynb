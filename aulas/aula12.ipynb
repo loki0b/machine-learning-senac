{
 "cells": [
  {
   "cell_type": "code",
   "execution_count": 4,
   "metadata": {},
   "outputs": [],
   "source": [
    "import numpy as np\n",
    "import pandas as pd\n",
    "from sklearn.model_selection import train_test_split\n",
    "from sklearn import metrics"
   ]
  },
  {
   "cell_type": "code",
   "execution_count": 5,
   "metadata": {},
   "outputs": [],
   "source": [
    "df = pd.read_csv('../pima-data.csv')"
   ]
  },
  {
   "cell_type": "code",
   "execution_count": 6,
   "metadata": {},
   "outputs": [],
   "source": [
    "diabetes_map = {True: 1, False: 0}\n",
    "df['diabetes'] = df['diabetes'].map(diabetes_map)"
   ]
  },
  {
   "cell_type": "code",
   "execution_count": 7,
   "metadata": {},
   "outputs": [],
   "source": [
    "atributos = ['num_preg', 'glucose_conc', 'diastolic_bp', 'thickness', 'insulin', 'bmi', 'diab_pred', 'age']\n",
    "\n",
    "atrib_prev = ['diabetes']\n",
    "\n",
    "X = df[atributos].values\n",
    "Y = df[atrib_prev].values"
   ]
  },
  {
   "cell_type": "code",
   "execution_count": 8,
   "metadata": {},
   "outputs": [
    {
     "name": "stdout",
     "output_type": "stream",
     "text": [
      "[[  2.     84.      0.    ...   0.      0.304  21.   ]\n",
      " [  9.    112.     82.    ...  28.2     1.282  50.   ]\n",
      " [  1.    139.     46.    ...  28.7     0.654  22.   ]\n",
      " ...\n",
      " [ 10.    101.     86.    ...  45.6     1.136  38.   ]\n",
      " [  0.    141.      0.    ...  42.4     0.205  29.   ]\n",
      " [  0.    125.     96.    ...  22.5     0.262  21.   ]]\n",
      "(614, 8)\n",
      "(154, 8)\n"
     ]
    }
   ],
   "source": [
    "X_treino, X_teste, Y_treino, Y_teste = train_test_split(X,Y, test_size= 0.20, shuffle= True, random_state= 42)\n",
    "\n",
    "print(X_treino)\n",
    "print(X_treino.shape)\n",
    "print(X_teste.shape)"
   ]
  },
  {
   "cell_type": "code",
   "execution_count": 9,
   "metadata": {},
   "outputs": [],
   "source": [
    "from sklearn.impute import SimpleImputer\n",
    "\n",
    "preenche_0 = SimpleImputer(missing_values = 0, strategy = 'mean')\n",
    "\n",
    "X_treino = preenche_0.fit_transform(X_treino)\n",
    "X_teste = preenche_0.fit_transform(X_teste)"
   ]
  },
  {
   "cell_type": "code",
   "execution_count": 10,
   "metadata": {},
   "outputs": [
    {
     "name": "stdout",
     "output_type": "stream",
     "text": [
      "Accuracy Treino: 0.745928\n",
      "Accuracy Teste: 0.714286\n"
     ]
    }
   ],
   "source": [
    "from sklearn.neural_network import MLPClassifier\n",
    "\n",
    "modelo = MLPClassifier(hidden_layer_sizes = (100, 8 , 60, 40, 20, 10, 5), max_iter = 1000, random_state = 42)\n",
    "\n",
    "modelo.fit(X_treino, Y_treino.ravel())\n",
    "\n",
    "pred_train = modelo.predict(X_treino)\n",
    "acc_train = metrics.accuracy_score(Y_treino, pred_train)\n",
    "print(\"Accuracy Treino: %.6f\" %acc_train)\n",
    "\n",
    "pred_test = modelo.predict(X_teste)\n",
    "acc_test = metrics.accuracy_score(Y_teste, pred_test)\n",
    "print(\"Accuracy Teste: %.6f\" %(acc_test))"
   ]
  }
 ],
 "metadata": {
  "kernelspec": {
   "display_name": "Python 3",
   "language": "python",
   "name": "python3"
  },
  "language_info": {
   "codemirror_mode": {
    "name": "ipython",
    "version": 3
   },
   "file_extension": ".py",
   "mimetype": "text/x-python",
   "name": "python",
   "nbconvert_exporter": "python",
   "pygments_lexer": "ipython3",
   "version": "3.10.9 (main, Dec 19 2022, 17:35:49) [GCC 12.2.0]"
  },
  "orig_nbformat": 4,
  "vscode": {
   "interpreter": {
    "hash": "767d51c1340bd893661ea55ea3124f6de3c7a262a8b4abca0554b478b1e2ff90"
   }
  }
 },
 "nbformat": 4,
 "nbformat_minor": 2
}
