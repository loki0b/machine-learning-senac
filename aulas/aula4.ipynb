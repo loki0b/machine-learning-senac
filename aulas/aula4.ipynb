{
 "cells": [
  {
   "cell_type": "markdown",
   "metadata": {},
   "source": [
    "### Iterações"
   ]
  },
  {
   "cell_type": "markdown",
   "metadata": {},
   "source": [
    "#### FOR"
   ]
  },
  {
   "cell_type": "code",
   "execution_count": 2,
   "metadata": {},
   "outputs": [
    {
     "name": "stdout",
     "output_type": "stream",
     "text": [
      "1 2 3 4 5 6 "
     ]
    }
   ],
   "source": [
    "for elemento in [1, 2, 3, 4, 5, 6]:\n",
    "    print(elemento, end=' ')"
   ]
  },
  {
   "cell_type": "code",
   "execution_count": 6,
   "metadata": {},
   "outputs": [
    {
     "name": "stdout",
     "output_type": "stream",
     "text": [
      "S T R I N G "
     ]
    }
   ],
   "source": [
    "for elemento in 'STRING':\n",
    "    print(elemento, end=' ')"
   ]
  },
  {
   "cell_type": "code",
   "execution_count": 8,
   "metadata": {},
   "outputs": [
    {
     "name": "stdout",
     "output_type": "stream",
     "text": [
      "0 1 2 3 4 5 "
     ]
    }
   ],
   "source": [
    "for elemento in range(len('STRING')):\n",
    "    print(elemento, end=' ')"
   ]
  },
  {
   "cell_type": "markdown",
   "metadata": {},
   "source": [
    "#### WHILE"
   ]
  },
  {
   "cell_type": "code",
   "execution_count": 2,
   "metadata": {},
   "outputs": [
    {
     "name": "stdout",
     "output_type": "stream",
     "text": [
      "0 1 2 3 4 5 6 "
     ]
    }
   ],
   "source": [
    "elemento = 0\n",
    "while elemento <= len([1, 2, 3, 4, 5, 6]):\n",
    "    print(elemento, end=' ')\n",
    "    elemento += 1"
   ]
  },
  {
   "cell_type": "code",
   "execution_count": 4,
   "metadata": {},
   "outputs": [
    {
     "name": "stdout",
     "output_type": "stream",
     "text": [
      "[0, t] - [1, r] - [2, a] - [3, n] - [4, q] - [5, u] - [6, i] - [7, l] - [8, o] - "
     ]
    }
   ],
   "source": [
    "palavra = 'tranquilo'\n",
    "for indice, letra in enumerate(palavra):\n",
    "    print(f'[{indice}, {letra}]', end=' - ')"
   ]
  },
  {
   "cell_type": "code",
   "execution_count": 5,
   "metadata": {},
   "outputs": [],
   "source": [
    "lista = ['eat', 'sleep', 'repeat']\n",
    "palavra = 'geek'\n",
    "\n"
   ]
  },
  {
   "cell_type": "code",
   "execution_count": 6,
   "metadata": {},
   "outputs": [],
   "source": [
    "objeto1 = enumerate(lista)\n",
    "objeto2 = enumerate(palavra)"
   ]
  },
  {
   "cell_type": "code",
   "execution_count": 7,
   "metadata": {},
   "outputs": [
    {
     "name": "stdout",
     "output_type": "stream",
     "text": [
      "Tipo:  <class 'enumerate'>\n",
      "[(0, 'eat'), (1, 'sleep'), (2, 'repeat')]\n"
     ]
    }
   ],
   "source": [
    "print('Tipo: ', type(objeto1))\n",
    "print(list(enumerate(lista)))"
   ]
  },
  {
   "cell_type": "code",
   "execution_count": 10,
   "metadata": {},
   "outputs": [
    {
     "data": {
      "text/plain": [
       "[(2, 'g'), (3, 'e'), (4, 'e'), (5, 'k')]"
      ]
     },
     "execution_count": 10,
     "metadata": {},
     "output_type": "execute_result"
    }
   ],
   "source": [
    "list(enumerate(palavra, 2))"
   ]
  },
  {
   "cell_type": "markdown",
   "metadata": {},
   "source": [
    "##### Desafio 1"
   ]
  },
  {
   "cell_type": "code",
   "execution_count": 13,
   "metadata": {},
   "outputs": [
    {
     "name": "stdout",
     "output_type": "stream",
     "text": [
      "7 números pares\n",
      "3 números ímpares\n"
     ]
    }
   ],
   "source": [
    "numeros = {'pares': 0, 'impares': 0}\n",
    "\n",
    "for i in range(10):\n",
    "    num = int(input())\n",
    "\n",
    "    if num % 2 == 0:\n",
    "        numeros['pares'] += 1\n",
    "    \n",
    "    else:\n",
    "        numeros['impares'] +=1\n",
    "    \n",
    "else:\n",
    "    print(f'{numeros[\"pares\"]} números pares')\n",
    "    print(f'{numeros[\"impares\"]} números ímpares')"
   ]
  },
  {
   "cell_type": "markdown",
   "metadata": {},
   "source": [
    "##### Desafio 2"
   ]
  },
  {
   "cell_type": "code",
   "execution_count": 15,
   "metadata": {},
   "outputs": [
    {
     "name": "stdout",
     "output_type": "stream",
     "text": [
      "Você precisa trabalhar!\n"
     ]
    }
   ],
   "source": [
    "finished = False\n",
    "\n",
    "while not finished:\n",
    "    dia = input()\n",
    "\n",
    "    if dia in ['sabado', 'domingo']:\n",
    "        print('Hoje é dia de descanso')\n",
    "    \n",
    "    elif dia in ['segunda', 'terça', 'quarta', 'quinta', 'sexta']:\n",
    "        print('Você precisa trabalhar!')\n",
    "        finished = True"
   ]
  },
  {
   "cell_type": "markdown",
   "metadata": {},
   "source": [
    "##### Desafio 3"
   ]
  },
  {
   "cell_type": "code",
   "execution_count": 25,
   "metadata": {},
   "outputs": [
    {
     "name": "stdout",
     "output_type": "stream",
     "text": [
      "11^2 = 121\n",
      "13^2 = 169\n",
      "15^2 = 225\n",
      "17^2 = 289\n",
      "19^2 = 361\n",
      "Lista de números pares: [10, 12, 14, 16, 18, 20]\n"
     ]
    }
   ],
   "source": [
    "lista_numeros = list()\n",
    "\n",
    "for numero in range(10, 21):\n",
    "\n",
    "    if numero % 2 == 0:\n",
    "       lista_numeros.append(numero)\n",
    "    \n",
    "    else:\n",
    "        print(f'{numero}^2 = {numero ** 2}')\n",
    "\n",
    "else:\n",
    "    print(f'Lista de números pares: {lista_numeros}')"
   ]
  },
  {
   "cell_type": "markdown",
   "metadata": {},
   "source": [
    "##### Desafio 4"
   ]
  },
  {
   "cell_type": "code",
   "execution_count": 27,
   "metadata": {},
   "outputs": [
    {
     "name": "stdout",
     "output_type": "stream",
     "text": [
      "Letra: o - Index: 1\n",
      "Letra: i - Index: 3\n"
     ]
    }
   ],
   "source": [
    "palavra = input()\n",
    "\n",
    "for index, letra in enumerate(palavra):\n",
    "    if letra in ['a', 'e', 'i', 'o', 'u']:\n",
    "        print(f'Letra: {letra} - Index: {index}')"
   ]
  },
  {
   "cell_type": "markdown",
   "metadata": {},
   "source": [
    "##### Pratica 1"
   ]
  },
  {
   "cell_type": "code",
   "execution_count": 29,
   "metadata": {},
   "outputs": [
    {
     "name": "stdout",
     "output_type": "stream",
     "text": [
      "Oi Reginaldo! Por favor, venha para o sábado pet em minha casa!\n",
      "Oi Gisele Pintcher! Por favor, venha para o sábado pet em minha casa!\n",
      "Oi Scoob! Por favor, venha para o sábado pet em minha casa!\n",
      "Oi Marlene! Por favor, venha para o sábado pet em minha casa!\n",
      "Oi Zezinho! Por favor, venha para o sábado pet em minha casa!\n",
      "Oi Cibele! Por favor, venha para o sábado pet em minha casa!\n",
      "Oi Suely! Por favor, venha para o sábado pet em minha casa!\n"
     ]
    }
   ],
   "source": [
    "for nome in ['Reginaldo', 'Gisele Pintcher', 'Scoob', 'Marlene', 'Zezinho', 'Cibele', 'Suely']:\n",
    "    convite = f'Oi {nome}! Por favor, venha para o sábado pet em minha casa!'\n",
    "    print(convite)"
   ]
  },
  {
   "cell_type": "markdown",
   "metadata": {},
   "source": [
    "##### Pratica 2 "
   ]
  },
  {
   "cell_type": "code",
   "execution_count": 32,
   "metadata": {},
   "outputs": [
    {
     "name": "stdout",
     "output_type": "stream",
     "text": [
      "True\n"
     ]
    }
   ],
   "source": [
    "frutas = list()\n",
    "\n",
    "for i in range(5):\n",
    "    frutas.append(input())\n",
    "\n",
    "print('morango' in frutas)"
   ]
  },
  {
   "cell_type": "markdown",
   "metadata": {},
   "source": [
    "##### Pratica 3"
   ]
  },
  {
   "cell_type": "code",
   "execution_count": 41,
   "metadata": {},
   "outputs": [
    {
     "name": "stdout",
     "output_type": "stream",
     "text": [
      "100 102 104 106 108 110 112 114 116 118 120 122 124 126 128 130 132 134 136 138 140 142 144 146 148 "
     ]
    }
   ],
   "source": [
    "for i in range(100, 150, 2):\n",
    "    print(i, end=' ')"
   ]
  },
  {
   "cell_type": "markdown",
   "metadata": {},
   "source": [
    "##### Pratica 4"
   ]
  },
  {
   "cell_type": "code",
   "execution_count": 33,
   "metadata": {},
   "outputs": [
    {
     "name": "stdout",
     "output_type": "stream",
     "text": [
      "40\n",
      "39\n",
      "38\n",
      "37\n",
      "36\n",
      "35\n",
      "34\n",
      "33\n",
      "32\n",
      "31\n",
      "30\n",
      "29\n",
      "28\n",
      "27\n",
      "26\n"
     ]
    }
   ],
   "source": [
    "temperatura = 40\n",
    "\n",
    "while temperatura > 25:\n",
    "    print(temperatura)\n",
    "    temperatura -= 1"
   ]
  }
 ],
 "metadata": {
  "kernelspec": {
   "display_name": "Python 3.10.8 64-bit",
   "language": "python",
   "name": "python3"
  },
  "language_info": {
   "codemirror_mode": {
    "name": "ipython",
    "version": 3
   },
   "file_extension": ".py",
   "mimetype": "text/x-python",
   "name": "python",
   "nbconvert_exporter": "python",
   "pygments_lexer": "ipython3",
   "version": "3.10.8"
  },
  "orig_nbformat": 4,
  "vscode": {
   "interpreter": {
    "hash": "e7370f93d1d0cde622a1f8e1c04877d8463912d04d973331ad4851f04de6915a"
   }
  }
 },
 "nbformat": 4,
 "nbformat_minor": 2
}
