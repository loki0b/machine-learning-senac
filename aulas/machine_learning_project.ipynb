{
  "nbformat": 4,
  "nbformat_minor": 0,
  "metadata": {
    "colab": {
      "provenance": [],
      "collapsed_sections": [
        "VqV5MmSpbVK9"
      ],
      "authorship_tag": "ABX9TyNfsPhpjCTLS+OTh1yfTIjq"
    },
    "kernelspec": {
      "name": "python3",
      "display_name": "Python 3"
    },
    "language_info": {
      "name": "python"
    }
  },
  "cells": [
    {
      "cell_type": "code",
      "execution_count": 1,
      "metadata": {
        "id": "N31y1UI4Cm0J"
      },
      "outputs": [],
      "source": [
        "from google.colab import drive\n",
        "import pandas as pd"
      ]
    },
    {
      "cell_type": "code",
      "source": [
        "drive.mount('/content/drive')\n",
        "user_data = pd.read_csv('/content/drive/MyDrive/machine-learning-project/users_export.csv')\n",
        "movie_data = pd.read_csv('/content/drive/MyDrive/machine-learning-project/movie_data.csv', lineterminator='\\n')\n",
        "rate_data = pd.read_csv('/content/drive/MyDrive/machine-learning-project/ratings_export.csv')"
      ],
      "metadata": {
        "colab": {
          "base_uri": "https://localhost:8080/"
        },
        "id": "k1v0m3wAECpc",
        "outputId": "0f0db90e-bbae-4b74-fb8d-664524e471fe"
      },
      "execution_count": 2,
      "outputs": [
        {
          "output_type": "stream",
          "name": "stdout",
          "text": [
            "Drive already mounted at /content/drive; to attempt to forcibly remount, call drive.mount(\"/content/drive\", force_remount=True).\n"
          ]
        }
      ]
    },
    {
      "cell_type": "markdown",
      "source": [
        "## Tratando os dados"
      ],
      "metadata": {
        "id": "qMhkqZYQivdS"
      }
    },
    {
      "cell_type": "markdown",
      "source": [
        "##### Removendo as colunas que não serão necessárias"
      ],
      "metadata": {
        "id": "WwCgzySZqO8d"
      }
    },
    {
      "cell_type": "code",
      "source": [
        "user_data.drop(['_id', 'display_name', 'num_ratings_pages'], axis= 1, inplace= True)"
      ],
      "metadata": {
        "id": "-OcGCiGboG76"
      },
      "execution_count": 3,
      "outputs": []
    },
    {
      "cell_type": "code",
      "source": [
        "rate_data.drop('_id', axis= 1, inplace= True)"
      ],
      "metadata": {
        "id": "ziCpr2pcqSrR"
      },
      "execution_count": 4,
      "outputs": []
    },
    {
      "cell_type": "code",
      "source": [
        "movie_data.drop(['_id',\n",
        " 'image_url',\n",
        " 'imdb_id',\n",
        " 'imdb_link',\n",
        " 'overview',\n",
        " 'movie_title',\n",
        " 'original_language',\n",
        " 'release_date',\n",
        " 'spoken_languages',\n",
        " 'tmdb_id',\n",
        " 'tmdb_link'], axis= 1, inplace=True)"
      ],
      "metadata": {
        "id": "SVi-BKYyqUsO"
      },
      "execution_count": 5,
      "outputs": []
    },
    {
      "cell_type": "markdown",
      "source": [
        "### Tratando tabela de usuários"
      ],
      "metadata": {
        "id": "lDamyiO_bMf8"
      }
    },
    {
      "cell_type": "code",
      "source": [
        "user_data.rename(columns={'username': 'user_id'}, inplace= True) # Renomeando coluna para facilitar o merge"
      ],
      "metadata": {
        "id": "lPvjDjKoUNAd"
      },
      "execution_count": 6,
      "outputs": []
    },
    {
      "cell_type": "code",
      "source": [
        "# Verificando se há valores null\n",
        "user_data.isnull().sum()"
      ],
      "metadata": {
        "colab": {
          "base_uri": "https://localhost:8080/"
        },
        "id": "o5RctiePXtpP",
        "outputId": "899bdbc2-070c-48fd-ce43-d398dffea16a"
      },
      "execution_count": 7,
      "outputs": [
        {
          "output_type": "execute_result",
          "data": {
            "text/plain": [
              "num_reviews    0\n",
              "user_id        0\n",
              "dtype: int64"
            ]
          },
          "metadata": {},
          "execution_count": 7
        }
      ]
    },
    {
      "cell_type": "code",
      "source": [
        "# Verificando se os usuários não possuem reviews e removendo-os\n",
        "print((user_data['num_reviews'] == 0).sum())\n",
        "user_data.drop(user_data[user_data.num_reviews == 0].index, inplace= True)"
      ],
      "metadata": {
        "colab": {
          "base_uri": "https://localhost:8080/"
        },
        "id": "EgrJW1AFYDIP",
        "outputId": "daaa858e-4588-48f3-b879-0a85fba6ad4f"
      },
      "execution_count": 8,
      "outputs": [
        {
          "output_type": "stream",
          "name": "stdout",
          "text": [
            "78\n"
          ]
        }
      ]
    },
    {
      "cell_type": "markdown",
      "source": [
        "### Tratando tabela de avaliações"
      ],
      "metadata": {
        "id": "VqV5MmSpbVK9"
      }
    },
    {
      "cell_type": "code",
      "source": [
        "rate_data.head()"
      ],
      "metadata": {
        "colab": {
          "base_uri": "https://localhost:8080/",
          "height": 0
        },
        "id": "aU_RKiEVW4rj",
        "outputId": "5629f2d6-d3d2-4545-d71d-09e1855199e1"
      },
      "execution_count": 9,
      "outputs": [
        {
          "output_type": "execute_result",
          "data": {
            "text/plain": [
              "           movie_id  rating_val     user_id\n",
              "0        feast-2014           7  deathproof\n",
              "1       loving-2016           7  deathproof\n",
              "2  scripted-content           7  deathproof\n",
              "3        the-future           4  deathproof\n",
              "4              mank           5  deathproof"
            ],
            "text/html": [
              "\n",
              "  <div id=\"df-858f4499-e8dd-4564-92ff-69a432aace23\">\n",
              "    <div class=\"colab-df-container\">\n",
              "      <div>\n",
              "<style scoped>\n",
              "    .dataframe tbody tr th:only-of-type {\n",
              "        vertical-align: middle;\n",
              "    }\n",
              "\n",
              "    .dataframe tbody tr th {\n",
              "        vertical-align: top;\n",
              "    }\n",
              "\n",
              "    .dataframe thead th {\n",
              "        text-align: right;\n",
              "    }\n",
              "</style>\n",
              "<table border=\"1\" class=\"dataframe\">\n",
              "  <thead>\n",
              "    <tr style=\"text-align: right;\">\n",
              "      <th></th>\n",
              "      <th>movie_id</th>\n",
              "      <th>rating_val</th>\n",
              "      <th>user_id</th>\n",
              "    </tr>\n",
              "  </thead>\n",
              "  <tbody>\n",
              "    <tr>\n",
              "      <th>0</th>\n",
              "      <td>feast-2014</td>\n",
              "      <td>7</td>\n",
              "      <td>deathproof</td>\n",
              "    </tr>\n",
              "    <tr>\n",
              "      <th>1</th>\n",
              "      <td>loving-2016</td>\n",
              "      <td>7</td>\n",
              "      <td>deathproof</td>\n",
              "    </tr>\n",
              "    <tr>\n",
              "      <th>2</th>\n",
              "      <td>scripted-content</td>\n",
              "      <td>7</td>\n",
              "      <td>deathproof</td>\n",
              "    </tr>\n",
              "    <tr>\n",
              "      <th>3</th>\n",
              "      <td>the-future</td>\n",
              "      <td>4</td>\n",
              "      <td>deathproof</td>\n",
              "    </tr>\n",
              "    <tr>\n",
              "      <th>4</th>\n",
              "      <td>mank</td>\n",
              "      <td>5</td>\n",
              "      <td>deathproof</td>\n",
              "    </tr>\n",
              "  </tbody>\n",
              "</table>\n",
              "</div>\n",
              "      <button class=\"colab-df-convert\" onclick=\"convertToInteractive('df-858f4499-e8dd-4564-92ff-69a432aace23')\"\n",
              "              title=\"Convert this dataframe to an interactive table.\"\n",
              "              style=\"display:none;\">\n",
              "        \n",
              "  <svg xmlns=\"http://www.w3.org/2000/svg\" height=\"24px\"viewBox=\"0 0 24 24\"\n",
              "       width=\"24px\">\n",
              "    <path d=\"M0 0h24v24H0V0z\" fill=\"none\"/>\n",
              "    <path d=\"M18.56 5.44l.94 2.06.94-2.06 2.06-.94-2.06-.94-.94-2.06-.94 2.06-2.06.94zm-11 1L8.5 8.5l.94-2.06 2.06-.94-2.06-.94L8.5 2.5l-.94 2.06-2.06.94zm10 10l.94 2.06.94-2.06 2.06-.94-2.06-.94-.94-2.06-.94 2.06-2.06.94z\"/><path d=\"M17.41 7.96l-1.37-1.37c-.4-.4-.92-.59-1.43-.59-.52 0-1.04.2-1.43.59L10.3 9.45l-7.72 7.72c-.78.78-.78 2.05 0 2.83L4 21.41c.39.39.9.59 1.41.59.51 0 1.02-.2 1.41-.59l7.78-7.78 2.81-2.81c.8-.78.8-2.07 0-2.86zM5.41 20L4 18.59l7.72-7.72 1.47 1.35L5.41 20z\"/>\n",
              "  </svg>\n",
              "      </button>\n",
              "      \n",
              "  <style>\n",
              "    .colab-df-container {\n",
              "      display:flex;\n",
              "      flex-wrap:wrap;\n",
              "      gap: 12px;\n",
              "    }\n",
              "\n",
              "    .colab-df-convert {\n",
              "      background-color: #E8F0FE;\n",
              "      border: none;\n",
              "      border-radius: 50%;\n",
              "      cursor: pointer;\n",
              "      display: none;\n",
              "      fill: #1967D2;\n",
              "      height: 32px;\n",
              "      padding: 0 0 0 0;\n",
              "      width: 32px;\n",
              "    }\n",
              "\n",
              "    .colab-df-convert:hover {\n",
              "      background-color: #E2EBFA;\n",
              "      box-shadow: 0px 1px 2px rgba(60, 64, 67, 0.3), 0px 1px 3px 1px rgba(60, 64, 67, 0.15);\n",
              "      fill: #174EA6;\n",
              "    }\n",
              "\n",
              "    [theme=dark] .colab-df-convert {\n",
              "      background-color: #3B4455;\n",
              "      fill: #D2E3FC;\n",
              "    }\n",
              "\n",
              "    [theme=dark] .colab-df-convert:hover {\n",
              "      background-color: #434B5C;\n",
              "      box-shadow: 0px 1px 3px 1px rgba(0, 0, 0, 0.15);\n",
              "      filter: drop-shadow(0px 1px 2px rgba(0, 0, 0, 0.3));\n",
              "      fill: #FFFFFF;\n",
              "    }\n",
              "  </style>\n",
              "\n",
              "      <script>\n",
              "        const buttonEl =\n",
              "          document.querySelector('#df-858f4499-e8dd-4564-92ff-69a432aace23 button.colab-df-convert');\n",
              "        buttonEl.style.display =\n",
              "          google.colab.kernel.accessAllowed ? 'block' : 'none';\n",
              "\n",
              "        async function convertToInteractive(key) {\n",
              "          const element = document.querySelector('#df-858f4499-e8dd-4564-92ff-69a432aace23');\n",
              "          const dataTable =\n",
              "            await google.colab.kernel.invokeFunction('convertToInteractive',\n",
              "                                                     [key], {});\n",
              "          if (!dataTable) return;\n",
              "\n",
              "          const docLinkHtml = 'Like what you see? Visit the ' +\n",
              "            '<a target=\"_blank\" href=https://colab.research.google.com/notebooks/data_table.ipynb>data table notebook</a>'\n",
              "            + ' to learn more about interactive tables.';\n",
              "          element.innerHTML = '';\n",
              "          dataTable['output_type'] = 'display_data';\n",
              "          await google.colab.output.renderOutput(dataTable, element);\n",
              "          const docLink = document.createElement('div');\n",
              "          docLink.innerHTML = docLinkHtml;\n",
              "          element.appendChild(docLink);\n",
              "        }\n",
              "      </script>\n",
              "    </div>\n",
              "  </div>\n",
              "  "
            ]
          },
          "metadata": {},
          "execution_count": 9
        }
      ]
    },
    {
      "cell_type": "code",
      "source": [
        "# Verificando e removendo valores null\n",
        "print(rate_data.isnull().sum())\n",
        "rate_data.drop(rate_data[rate_data.movie_id.isnull()].index, inplace = True)"
      ],
      "metadata": {
        "colab": {
          "base_uri": "https://localhost:8080/"
        },
        "id": "VCQ0hV_vc-nA",
        "outputId": "c77508df-710c-42cb-b834-372af91c299d"
      },
      "execution_count": 10,
      "outputs": [
        {
          "output_type": "stream",
          "name": "stdout",
          "text": [
            "movie_id      6\n",
            "rating_val    0\n",
            "user_id       0\n",
            "dtype: int64\n"
          ]
        }
      ]
    },
    {
      "cell_type": "code",
      "source": [
        "rate_data.shape"
      ],
      "metadata": {
        "colab": {
          "base_uri": "https://localhost:8080/"
        },
        "id": "wHh4LSGVb2OO",
        "outputId": "95397c79-dbba-48d5-c713-f35c90e9b956"
      },
      "execution_count": 11,
      "outputs": [
        {
          "output_type": "execute_result",
          "data": {
            "text/plain": [
              "(11078161, 3)"
            ]
          },
          "metadata": {},
          "execution_count": 11
        }
      ]
    },
    {
      "cell_type": "markdown",
      "source": [
        "### Tratando tabela filmes"
      ],
      "metadata": {
        "id": "iQpRmfblrlX3"
      }
    },
    {
      "cell_type": "code",
      "source": [
        "movie_data.head()"
      ],
      "metadata": {
        "colab": {
          "base_uri": "https://localhost:8080/",
          "height": 206
        },
        "id": "AtpJFVbuW8Ov",
        "outputId": "24e948a5-c061-43d5-8ddb-899c678d9905"
      },
      "execution_count": 12,
      "outputs": [
        {
          "output_type": "execute_result",
          "data": {
            "text/plain": [
              "                  genres                 movie_id  popularity  \\\n",
              "0  [\"Music\",\"Animation\"]          football-freaks       0.600   \n",
              "1                     []           aftermath-1960       0.600   \n",
              "2              [\"Drama\"]  where-chimneys-are-seen       1.568   \n",
              "3              [\"Drama\"]   the-musicians-daughter       0.600   \n",
              "4        [\"Documentary\"]     50-years-of-fabulous       0.600   \n",
              "\n",
              "           production_countries  runtime  vote_average  vote_count  \\\n",
              "0            [\"United Kingdom\"]      0.0           0.0         0.0   \n",
              "1                            []     22.0           8.0         1.0   \n",
              "2                     [\"Japan\"]    108.0           6.6        10.0   \n",
              "3  [\"United States of America\"]     15.0           0.0         0.0   \n",
              "4                            []     75.0           0.0         0.0   \n",
              "\n",
              "   year_released  \n",
              "0         1971.0  \n",
              "1         1960.0  \n",
              "2         1953.0  \n",
              "3         1911.0  \n",
              "4         2018.0  "
            ],
            "text/html": [
              "\n",
              "  <div id=\"df-e31047bc-3008-456a-96ea-42dcc2cd09aa\">\n",
              "    <div class=\"colab-df-container\">\n",
              "      <div>\n",
              "<style scoped>\n",
              "    .dataframe tbody tr th:only-of-type {\n",
              "        vertical-align: middle;\n",
              "    }\n",
              "\n",
              "    .dataframe tbody tr th {\n",
              "        vertical-align: top;\n",
              "    }\n",
              "\n",
              "    .dataframe thead th {\n",
              "        text-align: right;\n",
              "    }\n",
              "</style>\n",
              "<table border=\"1\" class=\"dataframe\">\n",
              "  <thead>\n",
              "    <tr style=\"text-align: right;\">\n",
              "      <th></th>\n",
              "      <th>genres</th>\n",
              "      <th>movie_id</th>\n",
              "      <th>popularity</th>\n",
              "      <th>production_countries</th>\n",
              "      <th>runtime</th>\n",
              "      <th>vote_average</th>\n",
              "      <th>vote_count</th>\n",
              "      <th>year_released</th>\n",
              "    </tr>\n",
              "  </thead>\n",
              "  <tbody>\n",
              "    <tr>\n",
              "      <th>0</th>\n",
              "      <td>[\"Music\",\"Animation\"]</td>\n",
              "      <td>football-freaks</td>\n",
              "      <td>0.600</td>\n",
              "      <td>[\"United Kingdom\"]</td>\n",
              "      <td>0.0</td>\n",
              "      <td>0.0</td>\n",
              "      <td>0.0</td>\n",
              "      <td>1971.0</td>\n",
              "    </tr>\n",
              "    <tr>\n",
              "      <th>1</th>\n",
              "      <td>[]</td>\n",
              "      <td>aftermath-1960</td>\n",
              "      <td>0.600</td>\n",
              "      <td>[]</td>\n",
              "      <td>22.0</td>\n",
              "      <td>8.0</td>\n",
              "      <td>1.0</td>\n",
              "      <td>1960.0</td>\n",
              "    </tr>\n",
              "    <tr>\n",
              "      <th>2</th>\n",
              "      <td>[\"Drama\"]</td>\n",
              "      <td>where-chimneys-are-seen</td>\n",
              "      <td>1.568</td>\n",
              "      <td>[\"Japan\"]</td>\n",
              "      <td>108.0</td>\n",
              "      <td>6.6</td>\n",
              "      <td>10.0</td>\n",
              "      <td>1953.0</td>\n",
              "    </tr>\n",
              "    <tr>\n",
              "      <th>3</th>\n",
              "      <td>[\"Drama\"]</td>\n",
              "      <td>the-musicians-daughter</td>\n",
              "      <td>0.600</td>\n",
              "      <td>[\"United States of America\"]</td>\n",
              "      <td>15.0</td>\n",
              "      <td>0.0</td>\n",
              "      <td>0.0</td>\n",
              "      <td>1911.0</td>\n",
              "    </tr>\n",
              "    <tr>\n",
              "      <th>4</th>\n",
              "      <td>[\"Documentary\"]</td>\n",
              "      <td>50-years-of-fabulous</td>\n",
              "      <td>0.600</td>\n",
              "      <td>[]</td>\n",
              "      <td>75.0</td>\n",
              "      <td>0.0</td>\n",
              "      <td>0.0</td>\n",
              "      <td>2018.0</td>\n",
              "    </tr>\n",
              "  </tbody>\n",
              "</table>\n",
              "</div>\n",
              "      <button class=\"colab-df-convert\" onclick=\"convertToInteractive('df-e31047bc-3008-456a-96ea-42dcc2cd09aa')\"\n",
              "              title=\"Convert this dataframe to an interactive table.\"\n",
              "              style=\"display:none;\">\n",
              "        \n",
              "  <svg xmlns=\"http://www.w3.org/2000/svg\" height=\"24px\"viewBox=\"0 0 24 24\"\n",
              "       width=\"24px\">\n",
              "    <path d=\"M0 0h24v24H0V0z\" fill=\"none\"/>\n",
              "    <path d=\"M18.56 5.44l.94 2.06.94-2.06 2.06-.94-2.06-.94-.94-2.06-.94 2.06-2.06.94zm-11 1L8.5 8.5l.94-2.06 2.06-.94-2.06-.94L8.5 2.5l-.94 2.06-2.06.94zm10 10l.94 2.06.94-2.06 2.06-.94-2.06-.94-.94-2.06-.94 2.06-2.06.94z\"/><path d=\"M17.41 7.96l-1.37-1.37c-.4-.4-.92-.59-1.43-.59-.52 0-1.04.2-1.43.59L10.3 9.45l-7.72 7.72c-.78.78-.78 2.05 0 2.83L4 21.41c.39.39.9.59 1.41.59.51 0 1.02-.2 1.41-.59l7.78-7.78 2.81-2.81c.8-.78.8-2.07 0-2.86zM5.41 20L4 18.59l7.72-7.72 1.47 1.35L5.41 20z\"/>\n",
              "  </svg>\n",
              "      </button>\n",
              "      \n",
              "  <style>\n",
              "    .colab-df-container {\n",
              "      display:flex;\n",
              "      flex-wrap:wrap;\n",
              "      gap: 12px;\n",
              "    }\n",
              "\n",
              "    .colab-df-convert {\n",
              "      background-color: #E8F0FE;\n",
              "      border: none;\n",
              "      border-radius: 50%;\n",
              "      cursor: pointer;\n",
              "      display: none;\n",
              "      fill: #1967D2;\n",
              "      height: 32px;\n",
              "      padding: 0 0 0 0;\n",
              "      width: 32px;\n",
              "    }\n",
              "\n",
              "    .colab-df-convert:hover {\n",
              "      background-color: #E2EBFA;\n",
              "      box-shadow: 0px 1px 2px rgba(60, 64, 67, 0.3), 0px 1px 3px 1px rgba(60, 64, 67, 0.15);\n",
              "      fill: #174EA6;\n",
              "    }\n",
              "\n",
              "    [theme=dark] .colab-df-convert {\n",
              "      background-color: #3B4455;\n",
              "      fill: #D2E3FC;\n",
              "    }\n",
              "\n",
              "    [theme=dark] .colab-df-convert:hover {\n",
              "      background-color: #434B5C;\n",
              "      box-shadow: 0px 1px 3px 1px rgba(0, 0, 0, 0.15);\n",
              "      filter: drop-shadow(0px 1px 2px rgba(0, 0, 0, 0.3));\n",
              "      fill: #FFFFFF;\n",
              "    }\n",
              "  </style>\n",
              "\n",
              "      <script>\n",
              "        const buttonEl =\n",
              "          document.querySelector('#df-e31047bc-3008-456a-96ea-42dcc2cd09aa button.colab-df-convert');\n",
              "        buttonEl.style.display =\n",
              "          google.colab.kernel.accessAllowed ? 'block' : 'none';\n",
              "\n",
              "        async function convertToInteractive(key) {\n",
              "          const element = document.querySelector('#df-e31047bc-3008-456a-96ea-42dcc2cd09aa');\n",
              "          const dataTable =\n",
              "            await google.colab.kernel.invokeFunction('convertToInteractive',\n",
              "                                                     [key], {});\n",
              "          if (!dataTable) return;\n",
              "\n",
              "          const docLinkHtml = 'Like what you see? Visit the ' +\n",
              "            '<a target=\"_blank\" href=https://colab.research.google.com/notebooks/data_table.ipynb>data table notebook</a>'\n",
              "            + ' to learn more about interactive tables.';\n",
              "          element.innerHTML = '';\n",
              "          dataTable['output_type'] = 'display_data';\n",
              "          await google.colab.output.renderOutput(dataTable, element);\n",
              "          const docLink = document.createElement('div');\n",
              "          docLink.innerHTML = docLinkHtml;\n",
              "          element.appendChild(docLink);\n",
              "        }\n",
              "      </script>\n",
              "    </div>\n",
              "  </div>\n",
              "  "
            ]
          },
          "metadata": {},
          "execution_count": 12
        }
      ]
    },
    {
      "cell_type": "code",
      "source": [
        "# Verificando os valores nulos\n",
        "movie_data.isnull().sum()"
      ],
      "metadata": {
        "colab": {
          "base_uri": "https://localhost:8080/"
        },
        "id": "ls5civ-IfxTn",
        "outputId": "1b90ca63-2389-4887-8429-b7dc5b0d5af2"
      },
      "execution_count": 13,
      "outputs": [
        {
          "output_type": "execute_result",
          "data": {
            "text/plain": [
              "genres                  10632\n",
              "movie_id                    2\n",
              "popularity              10632\n",
              "production_countries    10632\n",
              "runtime                 15449\n",
              "vote_average            10632\n",
              "vote_count              10632\n",
              "year_released            7572\n",
              "dtype: int64"
            ]
          },
          "metadata": {},
          "execution_count": 13
        }
      ]
    },
    {
      "cell_type": "code",
      "source": [
        "# Removendo os filmes que possuem valores nulos\n",
        "movie_data.drop(movie_data[movie_data.genres.isnull()].index, inplace=True)\n",
        "movie_data.drop(movie_data[movie_data.runtime.isnull()].index, inplace=True)\n",
        "movie_data.drop(movie_data[movie_data.year_released.isnull()].index, inplace=True)"
      ],
      "metadata": {
        "id": "beUod7tqsMV4"
      },
      "execution_count": 14,
      "outputs": []
    },
    {
      "cell_type": "code",
      "source": [
        "# definindo apenas os filmes com +60 min de duração, mais de 1000 reviews\n",
        "movie_data.drop(movie_data[movie_data.runtime < 60].index, inplace=True)\n",
        "movie_data.drop(movie_data[movie_data.vote_count < 1000].index, inplace=True)"
      ],
      "metadata": {
        "id": "KnECBbcatFp3"
      },
      "execution_count": 15,
      "outputs": []
    },
    {
      "cell_type": "markdown",
      "source": [
        "### Merge"
      ],
      "metadata": {
        "id": "IIC2lF0-vjbj"
      }
    },
    {
      "cell_type": "code",
      "source": [
        "merge_user_rate = pd.merge(user_data, rate_data, on= 'user_id', how= 'inner')"
      ],
      "metadata": {
        "id": "kZOR69QNvyJy"
      },
      "execution_count": 16,
      "outputs": []
    },
    {
      "cell_type": "code",
      "source": [
        "merge_user_rate_movie = pd.merge(merge_user_rate, movie_data, on= 'movie_id', how= 'inner')"
      ],
      "metadata": {
        "id": "IDtwAIS2wSM5"
      },
      "execution_count": 17,
      "outputs": []
    },
    {
      "cell_type": "code",
      "source": [
        "main_df = merge_user_rate_movie"
      ],
      "metadata": {
        "id": "ZZwdbuV3wjqg"
      },
      "execution_count": 18,
      "outputs": []
    },
    {
      "cell_type": "markdown",
      "source": [
        "## Analisando o conjunto de dados"
      ],
      "metadata": {
        "id": "IZ6jdRxJ3mO5"
      }
    },
    {
      "cell_type": "code",
      "source": [
        "import numpy as np\n",
        "import matplotlib.pyplot as plt\n",
        "import seaborn as sns\n",
        "from sklearn.tree import DecisionTreeClassifier\n",
        "from sklearn.model_selection import train_test_split\n",
        "from sklearn import metrics"
      ],
      "metadata": {
        "id": "AxZrEAJe332d"
      },
      "execution_count": 19,
      "outputs": []
    },
    {
      "cell_type": "code",
      "source": [
        "main_df.columns.tolist()"
      ],
      "metadata": {
        "colab": {
          "base_uri": "https://localhost:8080/"
        },
        "id": "EufhgOgI4CcA",
        "outputId": "ac5960f1-bb37-477d-cfe3-599bd49bdea1"
      },
      "execution_count": 20,
      "outputs": [
        {
          "output_type": "execute_result",
          "data": {
            "text/plain": [
              "['num_reviews',\n",
              " 'user_id',\n",
              " 'movie_id',\n",
              " 'rating_val',\n",
              " 'genres',\n",
              " 'popularity',\n",
              " 'production_countries',\n",
              " 'runtime',\n",
              " 'vote_average',\n",
              " 'vote_count',\n",
              " 'year_released']"
            ]
          },
          "metadata": {},
          "execution_count": 20
        }
      ]
    },
    {
      "cell_type": "code",
      "source": [
        "df = pd.DataFrame(columns = ['filme', 'genero', 'pais_producao', 'popularidade', 'duracao', 'media_avaliacao', 'ano_lancamento', 'nota_usuario'])\n",
        "df.filme = np.array(main_df.movie_id)\n",
        "df.genero = np.array(main_df.genres)\n",
        "df.pais_producao = np.array(main_df.production_countries)\n",
        "df.popularidade = np.array(main_df.popularity)\n",
        "df.duracao = np.array(main_df.runtime)\n",
        "df.media_avaliacao = np.array(main_df.vote_average)\n",
        "df.ano_lancamento = np.array(main_df.year_released)\n",
        "df.nota_usuario = np.array(main_df.rating_val)"
      ],
      "metadata": {
        "id": "sN99DK4N4Sbg"
      },
      "execution_count": 21,
      "outputs": []
    },
    {
      "cell_type": "code",
      "source": [
        "def classificar_nota(nota):\n",
        "  if nota >= 7:\n",
        "    return 1  # Se a nota de avalição do usuário for maior ou igual a 7, consideramos que ele gostou desse filme\n",
        "  else:\n",
        "    return 0  # Se a nota de avalição do usuário for menor 7, consideramos que ele não gostou desse filme\n",
        "df['recomendacao'] = df['nota_usuario'].apply(classificar_nota)\n",
        "print(df)"
      ],
      "metadata": {
        "colab": {
          "base_uri": "https://localhost:8080/"
        },
        "id": "m830H3i5PCqZ",
        "outputId": "158c1693-1633-4373-becb-4b14f0ff9532"
      },
      "execution_count": 22,
      "outputs": [
        {
          "output_type": "stream",
          "name": "stdout",
          "text": [
            "                                       filme  \\\n",
            "0                                       mank   \n",
            "1                                       mank   \n",
            "2                                       mank   \n",
            "3                                       mank   \n",
            "4                                       mank   \n",
            "...                                      ...   \n",
            "4801611                     gabriels-inferno   \n",
            "4801612                     gabriels-inferno   \n",
            "4801613             gabriels-inferno-part-ii   \n",
            "4801614     night-on-bald-mountain-ave-maria   \n",
            "4801615  batman-vs-superman-ultimate-edition   \n",
            "\n",
            "                                   genero                 pais_producao  \\\n",
            "0                     [\"Drama\",\"History\"]  [\"United States of America\"]   \n",
            "1                     [\"Drama\",\"History\"]  [\"United States of America\"]   \n",
            "2                     [\"Drama\",\"History\"]  [\"United States of America\"]   \n",
            "3                     [\"Drama\",\"History\"]  [\"United States of America\"]   \n",
            "4                     [\"Drama\",\"History\"]  [\"United States of America\"]   \n",
            "...                                   ...                           ...   \n",
            "4801611                       [\"Romance\"]  [\"United States of America\"]   \n",
            "4801612                       [\"Romance\"]  [\"United States of America\"]   \n",
            "4801613                       [\"Romance\"]                            []   \n",
            "4801614            [\"Animation\",\"Family\"]  [\"United States of America\"]   \n",
            "4801615  [\"Action\",\"Adventure\",\"Fantasy\"]  [\"United States of America\"]   \n",
            "\n",
            "         popularidade  duracao  media_avaliacao  ano_lancamento  nota_usuario  \\\n",
            "0              16.331    132.0              6.9          2020.0             5   \n",
            "1              16.331    132.0              6.9          2020.0             6   \n",
            "2              16.331    132.0              6.9          2020.0             7   \n",
            "3              16.331    132.0              6.9          2020.0             5   \n",
            "4              16.331    132.0              6.9          2020.0             5   \n",
            "...               ...      ...              ...             ...           ...   \n",
            "4801611         9.646    122.0              8.6          2020.0             3   \n",
            "4801612         9.646    122.0              8.6          2020.0             2   \n",
            "4801613         7.802    105.0              8.7          2020.0             2   \n",
            "4801614        74.180    124.0              7.4          1940.0             6   \n",
            "4801615       162.157    152.0              5.9          2016.0             8   \n",
            "\n",
            "         recomendacao  \n",
            "0                   0  \n",
            "1                   0  \n",
            "2                   1  \n",
            "3                   0  \n",
            "4                   0  \n",
            "...               ...  \n",
            "4801611             0  \n",
            "4801612             0  \n",
            "4801613             0  \n",
            "4801614             0  \n",
            "4801615             1  \n",
            "\n",
            "[4801616 rows x 9 columns]\n"
          ]
        }
      ]
    },
    {
      "cell_type": "code",
      "source": [
        "# enumerando colunas\n",
        "from sklearn.preprocessing import LabelEncoder"
      ],
      "metadata": {
        "id": "___-v80W_RYR"
      },
      "execution_count": 23,
      "outputs": []
    },
    {
      "cell_type": "code",
      "source": [
        "enumerador = LabelEncoder()\n",
        "\n",
        "df['genero'] = enumerador.fit_transform(df['genero'])\n",
        "df['filme'] = enumerador.fit_transform(df['filme'])\n",
        "df['pais_producao'] = enumerador.fit_transform(df['pais_producao'])"
      ],
      "metadata": {
        "id": "nfUTqgmm_d8c"
      },
      "execution_count": 24,
      "outputs": []
    },
    {
      "cell_type": "code",
      "source": [
        "# correlação\n",
        "amostra = df.sample(frac = 0.6)\n",
        "correlacao = amostra.corr()\n",
        "correlacao_graf = sns.heatmap(correlacao, annot= True)\n",
        "correlacao_graf.figure.set_size_inches(13,6)"
      ],
      "metadata": {
        "colab": {
          "base_uri": "https://localhost:8080/",
          "height": 452
        },
        "id": "5iG15XPZ8RDB",
        "outputId": "b3cd71b9-d6eb-47d7-d568-6b5b89596834"
      },
      "execution_count": 25,
      "outputs": [
        {
          "output_type": "display_data",
          "data": {
            "text/plain": [
              "<Figure size 936x432 with 2 Axes>"
            ],
            "image/png": "[encoded data removed]"
          },
          "metadata": {
            "needs_background": "light"
          }
        }
      ]
    },
    {
      "cell_type": "code",
      "source": [
        "amostra = df.sample(frac = 0.60)\n",
        "model = DecisionTreeClassifier()"
      ],
      "metadata": {
        "id": "scPs2FV4BEZv"
      },
      "execution_count": 27,
      "outputs": []
    },
    {
      "cell_type": "code",
      "source": [
        "X = amostra[['filme','genero','popularidade','pais_producao', 'media_avaliacao', 'ano_lancamento']]\n",
        "y = amostra['recomendacao']"
      ],
      "metadata": {
        "id": "E4jL2G1YBgHJ"
      },
      "execution_count": 28,
      "outputs": []
    },
    {
      "cell_type": "code",
      "source": [
        "X_train, X_test, y_train, y_test = train_test_split(X, y, test_size=0.2)"
      ],
      "metadata": {
        "id": "1Ybz0bgxPz8q"
      },
      "execution_count": 29,
      "outputs": []
    },
    {
      "cell_type": "code",
      "source": [
        "model.fit(X_train, y_train)"
      ],
      "metadata": {
        "colab": {
          "base_uri": "https://localhost:8080/"
        },
        "id": "r08bLmGYP3rK",
        "outputId": "071b28e4-4435-4255-f1ed-53f7afb5177c"
      },
      "execution_count": 30,
      "outputs": [
        {
          "output_type": "execute_result",
          "data": {
            "text/plain": [
              "DecisionTreeClassifier()"
            ]
          },
          "metadata": {},
          "execution_count": 30
        }
      ]
    },
    {
      "cell_type": "code",
      "source": [
        "from sklearn.metrics import accuracy_score"
      ],
      "metadata": {
        "id": "pzRckeomQAml"
      },
      "execution_count": 31,
      "outputs": []
    },
    {
      "cell_type": "code",
      "source": [
        "y_pred = model.predict(X_test)"
      ],
      "metadata": {
        "id": "bemUufXkQDA0"
      },
      "execution_count": 32,
      "outputs": []
    },
    {
      "cell_type": "code",
      "source": [
        "accuracy = accuracy_score(y_test, y_pred)\n",
        "\n",
        "print(f'Precisão: {accuracy:.2f}')"
      ],
      "metadata": {
        "colab": {
          "base_uri": "https://localhost:8080/"
        },
        "id": "p-5jKv3kQE-7",
        "outputId": "139a8ffe-2148-4b06-aff0-0a7d7d14d107"
      },
      "execution_count": 33,
      "outputs": [
        {
          "output_type": "stream",
          "name": "stdout",
          "text": [
            "Precisão: 0.75\n"
          ]
        }
      ]
    },
    {
      "cell_type": "code",
      "source": [
        "print(metrics.classification_report(y_test,y_pred))"
      ],
      "metadata": {
        "colab": {
          "base_uri": "https://localhost:8080/"
        },
        "id": "YQPfkN_3QHRa",
        "outputId": "79d956da-a680-4a8a-d20f-9c08f5e2825d"
      },
      "execution_count": 34,
      "outputs": [
        {
          "output_type": "stream",
          "name": "stdout",
          "text": [
            "              precision    recall  f1-score   support\n",
            "\n",
            "           0       0.74      0.65      0.69    253511\n",
            "           1       0.75      0.82      0.79    322683\n",
            "\n",
            "    accuracy                           0.75    576194\n",
            "   macro avg       0.75      0.74      0.74    576194\n",
            "weighted avg       0.75      0.75      0.75    576194\n",
            "\n"
          ]
        }
      ]
    },
    {
      "cell_type": "code",
      "source": [
        "from sklearn.ensemble import RandomForestClassifier"
      ],
      "metadata": {
        "id": "GolHKoDLQMXO"
      },
      "execution_count": 35,
      "outputs": []
    },
    {
      "cell_type": "code",
      "source": [
        "from sklearn.utils.extmath import randomized_range_finder\n",
        "RandomForestClassifier(random_state = 42)"
      ],
      "metadata": {
        "colab": {
          "base_uri": "https://localhost:8080/"
        },
        "id": "xiu2PFwQQPah",
        "outputId": "a37d6431-2772-4fca-9d22-f1410d69b305"
      },
      "execution_count": 36,
      "outputs": [
        {
          "output_type": "execute_result",
          "data": {
            "text/plain": [
              "RandomForestClassifier(random_state=42)"
            ]
          },
          "metadata": {},
          "execution_count": 36
        }
      ]
    },
    {
      "cell_type": "code",
      "source": [
        "model = RandomForestClassifier(random_state = 42)\n",
        "model.fit(X_train, y_train)"
      ],
      "metadata": {
        "colab": {
          "base_uri": "https://localhost:8080/"
        },
        "id": "1A1arCSeQR89",
        "outputId": "ce5d55fc-3d72-43dc-ca99-711c0774ccc2"
      },
      "execution_count": 37,
      "outputs": [
        {
          "output_type": "execute_result",
          "data": {
            "text/plain": [
              "RandomForestClassifier(random_state=42)"
            ]
          },
          "metadata": {},
          "execution_count": 37
        }
      ]
    },
    {
      "cell_type": "code",
      "source": [
        "predictions_train = model.predict(X_train)\n",
        "accuracy = metrics.accuracy_score(y_train, predictions_train)\n",
        "print('Accuracy:%.4f' %accuracy)"
      ],
      "metadata": {
        "colab": {
          "base_uri": "https://localhost:8080/"
        },
        "id": "kWqwPnWgQUtf",
        "outputId": "7e526c5e-2666-4d8b-c167-4b27b2699613"
      },
      "execution_count": 38,
      "outputs": [
        {
          "output_type": "stream",
          "name": "stdout",
          "text": [
            "Accuracy:0.7493\n"
          ]
        }
      ]
    },
    {
      "cell_type": "code",
      "source": [
        "predictions_test = model.predict(X_test)\n",
        "accuracy = metrics.accuracy_score(y_test, predictions_test)\n",
        "print('Accuracy:%.4f' %accuracy)"
      ],
      "metadata": {
        "colab": {
          "base_uri": "https://localhost:8080/"
        },
        "id": "gjt3sW9YQXk5",
        "outputId": "2b3d1e36-ae9b-416e-f70c-6ef4e6615bec"
      },
      "execution_count": 39,
      "outputs": [
        {
          "output_type": "stream",
          "name": "stdout",
          "text": [
            "Accuracy:0.7478\n"
          ]
        }
      ]
    },
    {
      "cell_type": "code",
      "source": [
        "print(metrics.classification_report(y_test, predictions_test))"
      ],
      "metadata": {
        "colab": {
          "base_uri": "https://localhost:8080/"
        },
        "id": "fG8pctyeQaGu",
        "outputId": "42701143-204e-4f9c-817f-747e6d8627cc"
      },
      "execution_count": 40,
      "outputs": [
        {
          "output_type": "stream",
          "name": "stdout",
          "text": [
            "              precision    recall  f1-score   support\n",
            "\n",
            "           0       0.74      0.65      0.69    253511\n",
            "           1       0.75      0.82      0.79    322683\n",
            "\n",
            "    accuracy                           0.75    576194\n",
            "   macro avg       0.75      0.74      0.74    576194\n",
            "weighted avg       0.75      0.75      0.75    576194\n",
            "\n"
          ]
        }
      ]
    }
  ]
}