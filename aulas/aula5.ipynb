{
 "cells": [
  {
   "cell_type": "markdown",
   "metadata": {},
   "source": [
    "# Funções"
   ]
  },
  {
   "cell_type": "code",
   "execution_count": 2,
   "metadata": {},
   "outputs": [
    {
     "data": {
      "text/plain": [
       "['__add__',\n",
       " '__class__',\n",
       " '__class_getitem__',\n",
       " '__contains__',\n",
       " '__delattr__',\n",
       " '__delitem__',\n",
       " '__dir__',\n",
       " '__doc__',\n",
       " '__eq__',\n",
       " '__format__',\n",
       " '__ge__',\n",
       " '__getattribute__',\n",
       " '__getitem__',\n",
       " '__gt__',\n",
       " '__hash__',\n",
       " '__iadd__',\n",
       " '__imul__',\n",
       " '__init__',\n",
       " '__init_subclass__',\n",
       " '__iter__',\n",
       " '__le__',\n",
       " '__len__',\n",
       " '__lt__',\n",
       " '__mul__',\n",
       " '__ne__',\n",
       " '__new__',\n",
       " '__reduce__',\n",
       " '__reduce_ex__',\n",
       " '__repr__',\n",
       " '__reversed__',\n",
       " '__rmul__',\n",
       " '__setattr__',\n",
       " '__setitem__',\n",
       " '__sizeof__',\n",
       " '__str__',\n",
       " '__subclasshook__',\n",
       " 'append',\n",
       " 'clear',\n",
       " 'copy',\n",
       " 'count',\n",
       " 'extend',\n",
       " 'index',\n",
       " 'insert',\n",
       " 'pop',\n",
       " 'remove',\n",
       " 'reverse',\n",
       " 'sort']"
      ]
     },
     "execution_count": 2,
     "metadata": {},
     "output_type": "execute_result"
    }
   ],
   "source": [
    "dir(list)\n"
   ]
  },
  {
   "cell_type": "code",
   "execution_count": 1,
   "metadata": {},
   "outputs": [
    {
     "name": "stdout",
     "output_type": "stream",
     "text": [
      "Numero: 0\n",
      "Numero: 1\n",
      "Numero: 2\n",
      "Numero: 3\n",
      "Numero: 4\n"
     ]
    }
   ],
   "source": [
    "\n",
    "def funcaoLeitura():\n",
    "  for i in range(5):\n",
    "    print('Numero:', i)\n",
    "\n",
    "\n",
    "funcaoLeitura()"
   ]
  },
  {
   "cell_type": "code",
   "execution_count": 2,
   "metadata": {},
   "outputs": [
    {
     "name": "stdout",
     "output_type": "stream",
     "text": [
      "O primeiro número é: 4\n",
      "O segundo número é: 5\n",
      "A soma é: 9\n"
     ]
    }
   ],
   "source": [
    "def addNum(n1,n2):\n",
    "  print('O primeiro número é:', n1)\n",
    "  print('O segundo número é:', n2)\n",
    "  print('A soma é:', n1+n2)\n",
    "\n",
    "addNum(4,5)"
   ]
  },
  {
   "cell_type": "code",
   "execution_count": 4,
   "metadata": {},
   "outputs": [
    {
     "name": "stdout",
     "output_type": "stream",
     "text": [
      "Variavel da função Multiplicacao: 20\n",
      "10\n"
     ]
    }
   ],
   "source": [
    "\n",
    "varGlobal = 10 \n",
    "def multiplicacao(num1, num2):\n",
    "  varGlobal = (num1 * num2) \n",
    "  print('Variavel da função Multiplicacao:', varGlobal)\n",
    "\n",
    "multiplicacao(5,4)\n",
    "print(varGlobal)"
   ]
  },
  {
   "cell_type": "code",
   "execution_count": 6,
   "metadata": {},
   "outputs": [
    {
     "name": "stdout",
     "output_type": "stream",
     "text": [
      "Variavel da função Multiplicacao: 20\n"
     ]
    }
   ],
   "source": [
    "\n",
    "def multiplica(num1, num2):\n",
    "  varLocal = (num1 * num2) \n",
    "  print('Variavel da função Multiplicacao:', varLocal)\n",
    "\n",
    "multiplica(5,4)"
   ]
  },
  {
   "cell_type": "code",
   "execution_count": 7,
   "metadata": {},
   "outputs": [
    {
     "name": "stdout",
     "output_type": "stream",
     "text": [
      "0\n",
      "1\n",
      "2\n",
      "3\n",
      "4\n"
     ]
    }
   ],
   "source": [
    "for i in range(5): print(i)\n",
    "     "
   ]
  },
  {
   "cell_type": "code",
   "execution_count": 8,
   "metadata": {},
   "outputs": [],
   "source": [
    "def separaTexto(texto): return texto.split()\n",
    "     "
   ]
  },
  {
   "cell_type": "code",
   "execution_count": 10,
   "metadata": {},
   "outputs": [
    {
     "name": "stdout",
     "output_type": "stream",
     "text": [
      "['Cibele', 'Maria']\n"
     ]
    }
   ],
   "source": [
    "\n",
    "token = separaTexto('Cibele Maria')\n",
    "print(token)"
   ]
  },
  {
   "cell_type": "code",
   "execution_count": 11,
   "metadata": {},
   "outputs": [],
   "source": [
    "def variosParametros(*parametros):\n",
    "  for n, item in enumerate(parametros):\n",
    "    print('O parâmetro %d é:' %(n), item)\n",
    "  return;"
   ]
  },
  {
   "cell_type": "code",
   "execution_count": 12,
   "metadata": {},
   "outputs": [
    {
     "name": "stdout",
     "output_type": "stream",
     "text": [
      "O parâmetro 0 é: pitomba\n",
      "O parâmetro 1 é: jambo\n",
      "O parâmetro 2 é: siriguela\n",
      "O parâmetro 3 é: umbu\n"
     ]
    }
   ],
   "source": [
    "\n",
    "variosParametros('pitomba','jambo','siriguela','umbu')"
   ]
  },
  {
   "cell_type": "code",
   "execution_count": 13,
   "metadata": {},
   "outputs": [
    {
     "data": {
      "text/plain": [
       "'Este número é primo'"
      ]
     },
     "execution_count": 13,
     "metadata": {},
     "output_type": "execute_result"
    }
   ],
   "source": [
    "\n",
    "import math\n",
    "\n",
    "def numPrimo(num):\n",
    " \n",
    "  if (num%2) == 0 and num>2:\n",
    "    return ('Este número não é primo')\n",
    "  for i in range(3, int(math.sqrt(num)) + 1, 2):\n",
    "    if (num % i) == 0:\n",
    "      return ('Este numero não é primo')\n",
    "  return ('Este número é primo')\n",
    "     \n",
    "\n",
    "numPrimo(47)"
   ]
  },
  {
   "cell_type": "code",
   "execution_count": 14,
   "metadata": {},
   "outputs": [],
   "source": [
    "\n",
    "def soma(n1, n2):\n",
    "  return n1+n2\n",
    "\n",
    "def subtrai(n1, n2):\n",
    "  return n1-n2\n",
    "\n",
    "def multiplica(n1, n2):\n",
    "  return n1*n2\n",
    "\n",
    "def divide(n1, n2):\n",
    "  return n1/n2"
   ]
  },
  {
   "cell_type": "code",
   "execution_count": 15,
   "metadata": {},
   "outputs": [
    {
     "name": "stdout",
     "output_type": "stream",
     "text": [
      "+==================+\n",
      "| MENU DE OPERAÇÕES\n",
      "| 1 - somar        \n",
      "| 2 - subitrair    \n",
      "| 3 - multiplicar  \n",
      "| 4 - dividir      \n",
      "| 0 - sair         \n",
      "+==================+\n"
     ]
    }
   ],
   "source": [
    "\n",
    "while True:\n",
    "  print('+==================+')\n",
    "  print('| MENU DE OPERAÇÕES')\n",
    "  print('| 1 - somar        ')\n",
    "  print('| 2 - subitrair    ')\n",
    "  print('| 3 - multiplicar  ')\n",
    "  print('| 4 - dividir      ')\n",
    "  print('| 0 - sair         ')\n",
    "  print('+==================+')\n",
    "\n",
    "  op = int(input())\n",
    "  if op==0:\n",
    "    break\n",
    "  \n",
    "  n1 = int(input('Primeiro numero: '))\n",
    "  n2 = int(input('Segundo numero: '))\n",
    "\n",
    "  if op==1:\n",
    "    print('O resultado da soma é:', soma(n1,n2))\n",
    "  elif op==2:\n",
    "    print('O resultado da subtração é:', subtrai(n1,n2))\n",
    "  elif op==3:\n",
    "    print('O resultado da multiplicação e:', multiplica(n1,n2))\n",
    "  elif op==4:\n",
    "    print('O resultado da divisão é:', divide(n1,n2))"
   ]
  },
  {
   "cell_type": "code",
   "execution_count": 16,
   "metadata": {},
   "outputs": [],
   "source": [
    "\n",
    "class Pessoa():\n",
    "  def __init__(self, n, i):\n",
    "    self.nome = n\n",
    "    self.idade = i\n",
    "\n",
    "  def apresentacao(self):\n",
    "    print('Seja bem vindo ao sistema SENAC!')\n",
    "  \n",
    "\n",
    "class PessoaFisica():\n",
    "  def __init__(self, n, i, cpf):\n",
    "    self.nome = n\n",
    "    self.idade = i\n",
    "    self.cpf = cpf\n",
    "\n",
    "  def apresentacao(self):\n",
    "    print('Seja bem vindo ao sistema SENAC!')\n",
    "\n",
    "  def impostoDeRenda(self, *salario):\n",
    "    s = sum(salario)\n",
    "    ir = s*0.015\n",
    "    print('O valor do seu imposto de renda é R$', ir)\n",
    "    return ir\n",
    "  \n",
    "\n",
    "class PessoaJuridica():\n",
    "  def __init__(self, n, i, cnpj):\n",
    "    self.nome = n\n",
    "    self.idade = i\n",
    "    self.cnpj = cnpj\n",
    "\n",
    "  def apresentacao(self):\n",
    "    print('Seja bem vindo ao Python!')\n",
    "\n",
    "  def impostoDeRenda(self, *salario):\n",
    "    s = sum(salario)\n",
    "    ir = s*0.010\n",
    "    print('O valor do seu imposto de renda é R$', ir)\n",
    "    return ir"
   ]
  },
  {
   "cell_type": "code",
   "execution_count": 18,
   "metadata": {},
   "outputs": [],
   "source": [
    "nome = str(input('Nome: '))\n",
    "age = int(input('Idade: '))\n",
    "cnpj = int(input('CNPJ: '))\n",
    "\n",
    "serumaninho = Pessoa(nome, age)\n",
    "comunidade = PessoaJuridica(nome, age, cnpj)"
   ]
  },
  {
   "cell_type": "code",
   "execution_count": 19,
   "metadata": {},
   "outputs": [
    {
     "name": "stdout",
     "output_type": "stream",
     "text": [
      "Seja bem vindo ao sistema SENAC!\n"
     ]
    },
    {
     "data": {
      "text/plain": [
       "123"
      ]
     },
     "execution_count": 19,
     "metadata": {},
     "output_type": "execute_result"
    }
   ],
   "source": [
    "serumaninho.nome\n",
    "\n",
    "\n",
    "serumaninho.idade\n",
    "     \n",
    "\n",
    "serumaninho.apresentacao()\n",
    "     \n",
    "\n",
    "comunidade.cnpj"
   ]
  },
  {
   "cell_type": "code",
   "execution_count": 20,
   "metadata": {},
   "outputs": [
    {
     "name": "stdout",
     "output_type": "stream",
     "text": [
      "O valor do seu imposto de renda é R$ 0.2\n",
      "Fim!\n"
     ]
    }
   ],
   "source": [
    "\n",
    "salario = float(input('Receita: '))\n",
    "comunidade.impostoDeRenda(salario)\n",
    "print('Fim!')\n",
    "     "
   ]
  }
 ],
 "metadata": {
  "kernelspec": {
   "display_name": "Python 3.10.8 64-bit",
   "language": "python",
   "name": "python3"
  },
  "language_info": {
   "codemirror_mode": {
    "name": "ipython",
    "version": 3
   },
   "file_extension": ".py",
   "mimetype": "text/x-python",
   "name": "python",
   "nbconvert_exporter": "python",
   "pygments_lexer": "ipython3",
   "version": "3.10.8"
  },
  "orig_nbformat": 4,
  "vscode": {
   "interpreter": {
    "hash": "e7370f93d1d0cde622a1f8e1c04877d8463912d04d973331ad4851f04de6915a"
   }
  }
 },
 "nbformat": 4,
 "nbformat_minor": 2
}
